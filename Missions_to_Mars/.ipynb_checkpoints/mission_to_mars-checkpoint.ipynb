{
 "cells": [
  {
   "cell_type": "markdown",
   "metadata": {},
   "source": [
    "#  NASA Mars News scraping with BeautifulSoup"
   ]
  },
  {
   "cell_type": "code",
   "execution_count": 1,
   "metadata": {},
   "outputs": [],
   "source": [
    "# Dependencies \n",
    "from bs4 import BeautifulSoup as bs\n",
    "import requests\n",
    "from splinter import Browser\n",
    "import time"
   ]
  },
  {
   "cell_type": "code",
   "execution_count": 2,
   "metadata": {},
   "outputs": [],
   "source": [
    "#pip install splinter"
   ]
  },
  {
   "cell_type": "code",
   "execution_count": 3,
   "metadata": {},
   "outputs": [],
   "source": [
    "# Set the executable path and initialize the chrome browser in splinter\n",
    "executable_path = {'executable_path': 'chromedriver.exe'}\n",
    "browser = Browser('chrome', **executable_path, headless=False)"
   ]
  },
  {
   "cell_type": "markdown",
   "metadata": {},
   "source": [
    "# news beautifulsoup title/paragraph"
   ]
  },
  {
   "cell_type": "code",
   "execution_count": 4,
   "metadata": {},
   "outputs": [],
   "source": [
    "news_url=\"https://mars.nasa.gov/news/\"\n",
    "browser.visit(news_url)\n",
    "html=browser.html\n",
    "news_s=bs(html,\"html.parser\")"
   ]
  },
  {
   "cell_type": "code",
   "execution_count": 5,
   "metadata": {},
   "outputs": [
    {
     "data": {
      "text/plain": [
       "'Mars Now'"
      ]
     },
     "execution_count": 5,
     "metadata": {},
     "output_type": "execute_result"
    }
   ],
   "source": [
    "news=news_s.find_all(\"div\", class_=\"content_title\")\n",
    "\n",
    "news_title = news[0].text.strip()\n",
    "news_title"
   ]
  },
  {
   "cell_type": "code",
   "execution_count": 31,
   "metadata": {},
   "outputs": [
    {
     "data": {
      "text/plain": [
       "<ul class=\"item_list\"><li class=\"slide\"><div class=\"image_and_description_container\"><a href=\"/news/8678/the-detective-aboard-nasas-perseverance-rover/\" target=\"_self\"><div class=\"rollover_description\"><div class=\"rollover_description_inner\">An instrument called SHERLOC will, with the help of its partner WATSON, hunt for signs of ancient life by detecting organic molecules and minerals.</div><div class=\"overlay_arrow\"><img alt=\"More\" src=\"/assets/overlay-arrow.png\"/></div></div><div class=\"list_image\"><img alt=\"This artist's concept depicts NASA's Mars 2020 rover exploring Mars. \" src=\"/system/news_items/list_view_images/8678_21379_PIA22107-320x240.jpg\"/></div><div class=\"bottom_gradient\"><div><h3>The Detective Aboard NASA's Perseverance Rover</h3></div></div></a><div class=\"list_text\"><div class=\"list_date\">May 26, 2020</div><div class=\"content_title\"><a href=\"/news/8678/the-detective-aboard-nasas-perseverance-rover/\" target=\"_self\">The Detective Aboard NASA's Perseverance Rover</a></div><div class=\"article_teaser_body\">An instrument called SHERLOC will, with the help of its partner WATSON, hunt for signs of ancient life by detecting organic molecules and minerals.</div></div></div></li><li class=\"slide\"><div class=\"image_and_description_container\"><a href=\"/news/8680/maven-maps-electric-currents-around-mars-that-are-fundamental-to-atmospheric-loss/\" target=\"_self\"><div class=\"rollover_description\"><div class=\"rollover_description_inner\">Five years after NASA’s MAVEN spacecraft entered into orbit around Mars, data from the mission has led to the creation of a map of electric current systems in the Martian atmosphere.</div><div class=\"overlay_arrow\"><img alt=\"More\" src=\"/assets/overlay-arrow.png\"/></div></div><div class=\"list_image\"><img alt=\"\" src=\"/system/news_items/list_view_images/8680_mavenmarselectriccurrents-320x240.jpg\"/></div><div class=\"bottom_gradient\"><div><h3>MAVEN Maps Electric Currents around Mars that are Fundamental to Atmospheric Loss</h3></div></div></a><div class=\"list_text\"><div class=\"list_date\">May 25, 2020</div><div class=\"content_title\"><a href=\"/news/8680/maven-maps-electric-currents-around-mars-that-are-fundamental-to-atmospheric-loss/\" target=\"_self\">MAVEN Maps Electric Currents around Mars that are Fundamental to Atmospheric Loss</a></div><div class=\"article_teaser_body\">Five years after NASA’s MAVEN spacecraft entered into orbit around Mars, data from the mission has led to the creation of a map of electric current systems in the Martian atmosphere.</div></div></div></li><li class=\"slide\"><div class=\"image_and_description_container\"><a href=\"/news/8677/air-deliveries-bring-nasas-perseverance-mars-rover-closer-to-launch/\" target=\"_self\"><div class=\"rollover_description\"><div class=\"rollover_description_inner\">A NASA Wallops Flight Facility cargo plane transported more than two tons of equipment — including the rover's sample collection tubes — to Florida for this summer's liftoff.</div><div class=\"overlay_arrow\"><img alt=\"More\" src=\"/assets/overlay-arrow.png\"/></div></div><div class=\"list_image\"><img alt=\"This animated GIF shows a NASA Wallops Flight Facility C-130 soon after landing Kennedy Space Center in Florida\" src=\"/system/news_items/list_view_images/8677_airplane20200521-320.jpg\"/></div><div class=\"bottom_gradient\"><div><h3>Air Deliveries Bring NASA's Perseverance Mars Rover Closer to Launch</h3></div></div></a><div class=\"list_text\"><div class=\"list_date\">May 21, 2020</div><div class=\"content_title\"><a href=\"/news/8677/air-deliveries-bring-nasas-perseverance-mars-rover-closer-to-launch/\" target=\"_self\">Air Deliveries Bring NASA's Perseverance Mars Rover Closer to Launch</a></div><div class=\"article_teaser_body\">A NASA Wallops Flight Facility cargo plane transported more than two tons of equipment — including the rover's sample collection tubes — to Florida for this summer's liftoff.</div></div></div></li><li class=\"slide\"><div class=\"image_and_description_container\"><a href=\"/news/8675/nasa-wins-4-webbys-4-peoples-voice-awards/\" target=\"_self\"><div class=\"rollover_description\"><div class=\"rollover_description_inner\">Winners include the JPL-managed \"Send Your Name to Mars\" campaign, NASA's Global Climate Change website and Solar System Interactive.</div><div class=\"overlay_arrow\"><img alt=\"More\" src=\"/assets/overlay-arrow.png\"/></div></div><div class=\"list_image\"><img alt=\"NASA took home eight wins at the 2020 Webby Awards, including a juried prize and People's Voice award for the &quot;Send Your Name to Mars&quot; campaign. The Webby Awards logo is seen here against an illustration of Mars. \" src=\"/system/news_items/list_view_images/8675_Webby_main_320x240.jpg\"/></div><div class=\"bottom_gradient\"><div><h3>NASA Wins 4 Webbys, 4 People's Voice Awards</h3></div></div></a><div class=\"list_text\"><div class=\"list_date\">May 19, 2020</div><div class=\"content_title\"><a href=\"/news/8675/nasa-wins-4-webbys-4-peoples-voice-awards/\" target=\"_self\">NASA Wins 4 Webbys, 4 People's Voice Awards</a></div><div class=\"article_teaser_body\">Winners include the JPL-managed \"Send Your Name to Mars\" campaign, NASA's Global Climate Change website and Solar System Interactive.</div></div></div></li><li class=\"slide\"><div class=\"image_and_description_container\"><a href=\"/news/8671/nasas-perseverance-rover-goes-through-trials-by-fire-ice-light-and-sound/\" target=\"_self\"><div class=\"rollover_description\"><div class=\"rollover_description_inner\">The agency's new Mars rover is put through a series of tests in vacuum chambers, acoustic chambers and more to get ready for the Red Planet.</div><div class=\"overlay_arrow\"><img alt=\"More\" src=\"/assets/overlay-arrow.png\"/></div></div><div class=\"list_image\"><img alt=\"\" src=\"/system/news_items/list_view_images/8671_PIA23890-320.jpg\"/></div><div class=\"bottom_gradient\"><div><h3>NASA's Perseverance Rover Goes Through Trials by Fire, Ice, Light and Sound</h3></div></div></a><div class=\"list_text\"><div class=\"list_date\">May 18, 2020</div><div class=\"content_title\"><a href=\"/news/8671/nasas-perseverance-rover-goes-through-trials-by-fire-ice-light-and-sound/\" target=\"_self\">NASA's Perseverance Rover Goes Through Trials by Fire, Ice, Light and Sound</a></div><div class=\"article_teaser_body\">The agency's new Mars rover is put through a series of tests in vacuum chambers, acoustic chambers and more to get ready for the Red Planet.</div></div></div></li><li class=\"slide\"><div class=\"image_and_description_container\"><a href=\"/news/8657/nasas-perseverance-rover-mission-getting-in-shape-for-launch/\" target=\"_self\"><div class=\"rollover_description\"><div class=\"rollover_description_inner\">Stacking spacecraft components on top of each other is one of the final assembly steps before a mission launches to the Red Planet. </div><div class=\"overlay_arrow\"><img alt=\"More\" src=\"/assets/overlay-arrow.png\"/></div></div><div class=\"list_image\"><img alt=\"Image of the underside of the Mars 2020 rover\" src=\"/system/news_items/list_view_images/8657_1-PIA23884-320x240.jpg\"/></div><div class=\"bottom_gradient\"><div><h3>NASA's Perseverance Rover Mission Getting in Shape for Launch</h3></div></div></a><div class=\"list_text\"><div class=\"list_date\">May  7, 2020</div><div class=\"content_title\"><a href=\"/news/8657/nasas-perseverance-rover-mission-getting-in-shape-for-launch/\" target=\"_self\">NASA's Perseverance Rover Mission Getting in Shape for Launch</a></div><div class=\"article_teaser_body\">Stacking spacecraft components on top of each other is one of the final assembly steps before a mission launches to the Red Planet. </div></div></div></li><li class=\"slide\"><div class=\"image_and_description_container\"><a href=\"/news/8666/nasa-perseverance-mars-rover-scientists-train-in-the-nevada-desert/\" target=\"_self\"><div class=\"rollover_description\"><div class=\"rollover_description_inner\">Team members searched for signs of ancient microscopic life there, just as NASA's latest rover will on the Red Planet next year.</div><div class=\"overlay_arrow\"><img alt=\"More\" src=\"/assets/overlay-arrow.png\"/></div></div><div class=\"list_image\"><img alt=\"A field team sets up equipment in a dry lakebed in the Nevada \" src=\"/system/news_items/list_view_images/8666_PIA23776-main-320x240.jpg\"/></div><div class=\"bottom_gradient\"><div><h3>NASA Perseverance Mars Rover Scientists Train in the Nevada Desert</h3></div></div></a><div class=\"list_text\"><div class=\"list_date\">May  6, 2020</div><div class=\"content_title\"><a href=\"/news/8666/nasa-perseverance-mars-rover-scientists-train-in-the-nevada-desert/\" target=\"_self\">NASA Perseverance Mars Rover Scientists Train in the Nevada Desert</a></div><div class=\"article_teaser_body\">Team members searched for signs of ancient microscopic life there, just as NASA's latest rover will on the Red Planet next year.</div></div></div></li><li class=\"slide\"><div class=\"image_and_description_container\"><a href=\"/news/8663/nasas-perseverance-rover-will-look-at-mars-through-these-eyes/\" target=\"_self\"><div class=\"rollover_description\"><div class=\"rollover_description_inner\">A pair of zoomable cameras will help scientists and rover drivers with high-resolution color images.</div><div class=\"overlay_arrow\"><img alt=\"More\" src=\"/assets/overlay-arrow.png\"/></div></div><div class=\"list_image\"><img alt=\"A close-up of the head of Mars 2020's remote sensing mast.\" src=\"/system/news_items/list_view_images/8663_PIA23316-annotated-16-320x240.jpg\"/></div><div class=\"bottom_gradient\"><div><h3>NASA's Perseverance Rover Will Look at Mars Through These 'Eyes'</h3></div></div></a><div class=\"list_text\"><div class=\"list_date\">May  1, 2020</div><div class=\"content_title\"><a href=\"/news/8663/nasas-perseverance-rover-will-look-at-mars-through-these-eyes/\" target=\"_self\">NASA's Perseverance Rover Will Look at Mars Through These 'Eyes'</a></div><div class=\"article_teaser_body\">A pair of zoomable cameras will help scientists and rover drivers with high-resolution color images.</div></div></div></li><li class=\"slide\"><div class=\"image_and_description_container\"><a href=\"/news/8662/meet-the-people-behind-nasas-perseverance-rover/\" target=\"_self\"><div class=\"rollover_description\"><div class=\"rollover_description_inner\">These are the scientists and engineers who built NASA's next Mars rover and who will guide it to a safe landing in Jezero Crater. </div><div class=\"overlay_arrow\"><img alt=\"More\" src=\"/assets/overlay-arrow.png\"/></div></div><div class=\"list_image\"><img alt=\"From left to right: Moo Stricker, Al Chen, Diana Trujillo, Eric Aguilar and Michelle Tomey Colizzi as they appear in a new &quot;Behind the Spacecraft&quot; video series about the NASA's Perseverance Mars rover.\" src=\"/system/news_items/list_view_images/8662_video-collage-perseverance-320x240.jpg\"/></div><div class=\"bottom_gradient\"><div><h3>Meet the People Behind NASA's Perseverance Rover</h3></div></div></a><div class=\"list_text\"><div class=\"list_date\">April 30, 2020</div><div class=\"content_title\"><a href=\"/news/8662/meet-the-people-behind-nasas-perseverance-rover/\" target=\"_self\">Meet the People Behind NASA's Perseverance Rover</a></div><div class=\"article_teaser_body\">These are the scientists and engineers who built NASA's next Mars rover and who will guide it to a safe landing in Jezero Crater. </div></div></div></li><li class=\"slide\"><div class=\"image_and_description_container\"><a href=\"/news/8660/qa-with-the-student-who-named-ingenuity-nasas-mars-helicopter/\" target=\"_self\"><div class=\"rollover_description\"><div class=\"rollover_description_inner\">As a longtime fan of space exploration, Vaneeza Rupani appreciates the creativity and collaboration involved with trying to fly on another planet.</div><div class=\"overlay_arrow\"><img alt=\"More\" src=\"/assets/overlay-arrow.png\"/></div></div><div class=\"list_image\"><img alt=\"Vaneeza Rupani, the 11th grader who named the Mars Helicopter (Ingenuity), at home in Northport, Alabama.\" src=\"/system/news_items/list_view_images/8660_24934_3-courtesyRupanifamily-320x240.jpg\"/></div><div class=\"bottom_gradient\"><div><h3>Q&amp;A with the Student Who Named Ingenuity, NASA's Mars Helicopter</h3></div></div></a><div class=\"list_text\"><div class=\"list_date\">April 29, 2020</div><div class=\"content_title\"><a href=\"/news/8660/qa-with-the-student-who-named-ingenuity-nasas-mars-helicopter/\" target=\"_self\">Q&amp;A with the Student Who Named Ingenuity, NASA's Mars Helicopter</a></div><div class=\"article_teaser_body\">As a longtime fan of space exploration, Vaneeza Rupani appreciates the creativity and collaboration involved with trying to fly on another planet.</div></div></div></li><li class=\"slide\"><div class=\"image_and_description_container\"><a href=\"/news/8659/alabama-high-school-student-names-nasas-mars-helicopter/\" target=\"_self\"><div class=\"rollover_description\"><div class=\"rollover_description_inner\">Vaneeza Rupani's essay was chosen as the name for the small spacecraft, which will mark NASA's first attempt at powered flight on another planet.</div><div class=\"overlay_arrow\"><img alt=\"More\" src=\"/assets/overlay-arrow.png\"/></div></div><div class=\"list_image\"><img alt=\"Vaneeza Rupani (inset), a junior at Tuscaloosa County High School in Northport, Alabama, came up with the name Ingenuity for NASA's Mars Helicopter (an artist's impression of which is seen here) and the motivation behind it during NASA's &quot;Name the Rover&quot; essay contest. \" src=\"/system/news_items/list_view_images/8659_1-PIA23883-MAIN-320x240.jpg\"/></div><div class=\"bottom_gradient\"><div><h3>Alabama High School Student Names NASA's Mars Helicopter</h3></div></div></a><div class=\"list_text\"><div class=\"list_date\">April 29, 2020</div><div class=\"content_title\"><a href=\"/news/8659/alabama-high-school-student-names-nasas-mars-helicopter/\" target=\"_self\">Alabama High School Student Names NASA's Mars Helicopter</a></div><div class=\"article_teaser_body\">Vaneeza Rupani's essay was chosen as the name for the small spacecraft, which will mark NASA's first attempt at powered flight on another planet.</div></div></div></li><li class=\"slide\"><div class=\"image_and_description_container\"><a href=\"/news/8654/how-nasas-perseverance-mars-team-adjusted-to-work-in-the-time-of-coronavirus/\" target=\"_self\"><div class=\"rollover_description\"><div class=\"rollover_description_inner\">Like much of the rest of the world, the Mars rover team is pushing forward with its mission-critical work while putting the health and safety of their colleagues and community first.</div><div class=\"overlay_arrow\"><img alt=\"More\" src=\"/assets/overlay-arrow.png\"/></div></div><div class=\"list_image\"><img alt=\"Members of NASA's Perseverance rover mission work remotely from home during the coronavirus outbreak.\" src=\"/system/news_items/list_view_images/8654_MAIN-IMAGE-PIA23881-320x240.jpg\"/></div><div class=\"bottom_gradient\"><div><h3>How NASA's Perseverance Mars Team Adjusted to Work in the Time of Coronavirus </h3></div></div></a><div class=\"list_text\"><div class=\"list_date\">April 21, 2020</div><div class=\"content_title\"><a href=\"/news/8654/how-nasas-perseverance-mars-team-adjusted-to-work-in-the-time-of-coronavirus/\" target=\"_self\">How NASA's Perseverance Mars Team Adjusted to Work in the Time of Coronavirus </a></div><div class=\"article_teaser_body\">Like much of the rest of the world, the Mars rover team is pushing forward with its mission-critical work while putting the health and safety of their colleagues and community first.</div></div></div></li><li class=\"slide\"><div class=\"image_and_description_container\"><a href=\"/news/8649/nasas-perseverance-mars-rover-gets-balanced/\" target=\"_self\"><div class=\"rollover_description\"><div class=\"rollover_description_inner\">The mission team performed a crucial weight-balancing test on the rover in preparation for this summer's history-making launch to the Red Planet.</div><div class=\"overlay_arrow\"><img alt=\"More\" src=\"/assets/overlay-arrow.png\"/></div></div><div class=\"list_image\"><img alt=\"The Perseverance rover at NASA's Kennedy Space Center \" src=\"/system/news_items/list_view_images/8649_PIA23828-MAINimage-RoverNamePlate-320x240.jpg\"/></div><div class=\"bottom_gradient\"><div><h3>NASA's Perseverance Mars Rover Gets Balanced</h3></div></div></a><div class=\"list_text\"><div class=\"list_date\">April 20, 2020</div><div class=\"content_title\"><a href=\"/news/8649/nasas-perseverance-mars-rover-gets-balanced/\" target=\"_self\">NASA's Perseverance Mars Rover Gets Balanced</a></div><div class=\"article_teaser_body\">The mission team performed a crucial weight-balancing test on the rover in preparation for this summer's history-making launch to the Red Planet.</div></div></div></li><li class=\"slide\"><div class=\"image_and_description_container\"><a href=\"/news/8647/nasas-curiosity-keeps-rolling-as-team-operates-rover-from-home/\" target=\"_self\"><div class=\"rollover_description\"><div class=\"rollover_description_inner\">The team has learned to meet new challenges as they work remotely on the Mars mission.</div><div class=\"overlay_arrow\"><img alt=\"More\" src=\"/assets/overlay-arrow.png\"/></div></div><div class=\"list_image\"><img alt=\"Members of the Mars Curiosity team working remotely\" src=\"/system/news_items/list_view_images/8647_PIA23773-32x24.jpg\"/></div><div class=\"bottom_gradient\"><div><h3>NASA's Curiosity Keeps Rolling As Team Operates Rover From Home</h3></div></div></a><div class=\"list_text\"><div class=\"list_date\">April 13, 2020</div><div class=\"content_title\"><a href=\"/news/8647/nasas-curiosity-keeps-rolling-as-team-operates-rover-from-home/\" target=\"_self\">NASA's Curiosity Keeps Rolling As Team Operates Rover From Home</a></div><div class=\"article_teaser_body\">The team has learned to meet new challenges as they work remotely on the Mars mission.</div></div></div></li><li class=\"slide\"><div class=\"image_and_description_container\"><a href=\"/news/8645/mars-helicopter-attached-to-nasas-perseverance-rover/\" target=\"_self\"><div class=\"rollover_description\"><div class=\"rollover_description_inner\">The team also fueled the rover's sky crane to get ready for this summer's history-making launch.</div><div class=\"overlay_arrow\"><img alt=\"More\" src=\"/assets/overlay-arrow.png\"/></div></div><div class=\"list_image\"><img alt=\"The Mars Helicopter attached to the belly of NASA's Perseverance\" src=\"/system/news_items/list_view_images/8645_PIA23824-RoverWithHelicopter-32x24.jpg\"/></div><div class=\"bottom_gradient\"><div><h3>Mars Helicopter Attached to NASA's Perseverance Rover</h3></div></div></a><div class=\"list_text\"><div class=\"list_date\">April 10, 2020</div><div class=\"content_title\"><a href=\"/news/8645/mars-helicopter-attached-to-nasas-perseverance-rover/\" target=\"_self\">Mars Helicopter Attached to NASA's Perseverance Rover</a></div><div class=\"article_teaser_body\">The team also fueled the rover's sky crane to get ready for this summer's history-making launch.</div></div></div></li><li class=\"slide\"><div class=\"image_and_description_container\"><a href=\"/news/8641/nasas-perseverance-mars-rover-gets-its-wheels-and-air-brakes/\" target=\"_self\"><div class=\"rollover_description\"><div class=\"rollover_description_inner\">After the rover was shipped from JPL to Kennedy Space Center, the team is getting closer to finalizing the spacecraft for launch later this summer.</div><div class=\"overlay_arrow\"><img alt=\"More\" src=\"/assets/overlay-arrow.png\"/></div></div><div class=\"list_image\"><img alt=\"An image of three of the six flight wheels that will travel to Mars\" src=\"/system/news_items/list_view_images/8641_PIA-23821-320x240.jpg\"/></div><div class=\"bottom_gradient\"><div><h3>NASA's Perseverance Mars Rover Gets Its Wheels and Air Brakes</h3></div></div></a><div class=\"list_text\"><div class=\"list_date\">April  3, 2020</div><div class=\"content_title\"><a href=\"/news/8641/nasas-perseverance-mars-rover-gets-its-wheels-and-air-brakes/\" target=\"_self\">NASA's Perseverance Mars Rover Gets Its Wheels and Air Brakes</a></div><div class=\"article_teaser_body\">After the rover was shipped from JPL to Kennedy Space Center, the team is getting closer to finalizing the spacecraft for launch later this summer.</div></div></div></li><li class=\"slide\"><div class=\"image_and_description_container\"><a href=\"/news/8639/the-man-who-wanted-to-fly-on-mars/\" target=\"_self\"><div class=\"rollover_description\"><div class=\"rollover_description_inner\">The Mars Helicopter is riding to the Red Planet this summer with NASA's Perseverance rover. The helicopter's chief engineer, Bob Balaram, shares the saga of how it came into being.</div><div class=\"overlay_arrow\"><img alt=\"More\" src=\"/assets/overlay-arrow.png\"/></div></div><div class=\"list_image\"><img alt=\"Image of Bob Balaram on the left and the Mars Helicopter model to the right.\" src=\"/system/news_items/list_view_images/8639_bob-heli-226.jpg\"/></div><div class=\"bottom_gradient\"><div><h3>The Man Who Wanted to Fly on Mars</h3></div></div></a><div class=\"list_text\"><div class=\"list_date\">April  1, 2020</div><div class=\"content_title\"><a href=\"/news/8639/the-man-who-wanted-to-fly-on-mars/\" target=\"_self\">The Man Who Wanted to Fly on Mars</a></div><div class=\"article_teaser_body\">The Mars Helicopter is riding to the Red Planet this summer with NASA's Perseverance rover. The helicopter's chief engineer, Bob Balaram, shares the saga of how it came into being.</div></div></div></li><li class=\"slide\"><div class=\"image_and_description_container\"><a href=\"/news/8634/109-million-names-now-aboard-nasas-perseverance-mars-rover/\" target=\"_self\"><div class=\"rollover_description\"><div class=\"rollover_description_inner\">As part of NASA's 'Send Your Name to Mars' campaign, they've been stenciled onto three microchips along with essays from NASA's 'Name the Rover' contest. Next stop: Mars.</div><div class=\"overlay_arrow\"><img alt=\"More\" src=\"/assets/overlay-arrow.png\"/></div></div><div class=\"list_image\"><img alt=\"A placard commemorating NASA's &quot;Send Your Name to Mars&quot; campaign was installed on the Persevarnce Mars rover\" src=\"/system/news_items/list_view_images/8634_PIA23769-320x240.jpg\"/></div><div class=\"bottom_gradient\"><div><h3>10.9 Million Names Now Aboard NASA's Perseverance Mars Rover</h3></div></div></a><div class=\"list_text\"><div class=\"list_date\">March 26, 2020</div><div class=\"content_title\"><a href=\"/news/8634/109-million-names-now-aboard-nasas-perseverance-mars-rover/\" target=\"_self\">10.9 Million Names Now Aboard NASA's Perseverance Mars Rover</a></div><div class=\"article_teaser_body\">As part of NASA's 'Send Your Name to Mars' campaign, they've been stenciled onto three microchips along with essays from NASA's 'Name the Rover' contest. Next stop: Mars.</div></div></div></li><li class=\"slide\"><div class=\"image_and_description_container\"><a href=\"/news/8631/nasas-curiosity-mars-rover-takes-a-new-selfie-before-record-climb/\" target=\"_self\"><div class=\"rollover_description\"><div class=\"rollover_description_inner\">Along with capturing an image before its steepest ascent ever, the robotic explorer filmed its \"selfie stick,\" or robotic arm, in action.</div><div class=\"overlay_arrow\"><img alt=\"More\" src=\"/assets/overlay-arrow.png\"/></div></div><div class=\"list_image\"><img alt=\"This selfie was taken by NASA's Curiosity Mars rover on Feb. 26, 2020. The crumbling rock layer at the top of the image is the Greenheugh Pediment, which Curiosity climbed soon after taking the image.\" src=\"/system/news_items/list_view_images/8631_PIA23624_hutton-selfie-320x240.jpg\"/></div><div class=\"bottom_gradient\"><div><h3>NASA's Curiosity Mars Rover Takes a New Selfie Before Record Climb</h3></div></div></a><div class=\"list_text\"><div class=\"list_date\">March 20, 2020</div><div class=\"content_title\"><a href=\"/news/8631/nasas-curiosity-mars-rover-takes-a-new-selfie-before-record-climb/\" target=\"_self\">NASA's Curiosity Mars Rover Takes a New Selfie Before Record Climb</a></div><div class=\"article_teaser_body\">Along with capturing an image before its steepest ascent ever, the robotic explorer filmed its \"selfie stick,\" or robotic arm, in action.</div></div></div></li><li class=\"slide\"><div class=\"image_and_description_container\"><a href=\"/news/8630/nasas-mars-perseverance-rover-gets-its-sample-handling-system/\" target=\"_self\"><div class=\"rollover_description\"><div class=\"rollover_description_inner\">The system will be collecting and storing Martian rock and soil. Its installation marks another milestone in the march toward the July launch period.</div><div class=\"overlay_arrow\"><img alt=\"More\" src=\"/assets/overlay-arrow.png\"/></div></div><div class=\"list_image\"><img alt=\"NASA's Mars 2020 rover, now called Perseverance, undergoes processing at a payload servicing facility at NASA's Kennedy Space Center\" src=\"/system/news_items/list_view_images/8630_PIA23768-320x240.jpg\"/></div><div class=\"bottom_gradient\"><div><h3>NASA's Mars Perseverance Rover Gets Its Sample Handling System</h3></div></div></a><div class=\"list_text\"><div class=\"list_date\">March 19, 2020</div><div class=\"content_title\"><a href=\"/news/8630/nasas-mars-perseverance-rover-gets-its-sample-handling-system/\" target=\"_self\">NASA's Mars Perseverance Rover Gets Its Sample Handling System</a></div><div class=\"article_teaser_body\">The system will be collecting and storing Martian rock and soil. Its installation marks another milestone in the march toward the July launch period.</div></div></div></li><li class=\"slide\"><div class=\"image_and_description_container\"><a href=\"/news/8622/virginia-middle-school-student-earns-honor-of-naming-nasas-next-mars-rover/\" target=\"_self\"><div class=\"rollover_description\"><div class=\"rollover_description_inner\">NASA chose a seventh-grader from Virginia as winner of the agency's \"Name the Rover\" essay contest. Alexander Mather's entry for \"Perseverance\" was voted tops among 28,000 entries. </div><div class=\"overlay_arrow\"><img alt=\"More\" src=\"/assets/overlay-arrow.png\"/></div></div><div class=\"list_image\"><img alt=\"This illustration depicts NASA's Perseverance rover operating on the surface of Mars. Perseverance will land at the Red Planet's Jezero Crater.\" src=\"/system/news_items/list_view_images/8622_1-PIA23764-RoverNamePlateonMars-320x240.jpg\"/></div><div class=\"bottom_gradient\"><div><h3>Virginia Middle School Student Earns Honor of Naming NASA's Next Mars Rover</h3></div></div></a><div class=\"list_text\"><div class=\"list_date\">March  5, 2020</div><div class=\"content_title\"><a href=\"/news/8622/virginia-middle-school-student-earns-honor-of-naming-nasas-next-mars-rover/\" target=\"_self\">Virginia Middle School Student Earns Honor of Naming NASA's Next Mars Rover</a></div><div class=\"article_teaser_body\">NASA chose a seventh-grader from Virginia as winner of the agency's \"Name the Rover\" essay contest. Alexander Mather's entry for \"Perseverance\" was voted tops among 28,000 entries. </div></div></div></li><li class=\"slide\"><div class=\"image_and_description_container\"><a href=\"/news/8621/nasas-curiosity-mars-rover-snaps-its-highest-resolution-panorama-yet/\" target=\"_self\"><div class=\"rollover_description\"><div class=\"rollover_description_inner\">To go along with the stunning 1.8-billion-pixel image, a new video offers a sweeping view of the Red Planet.</div><div class=\"overlay_arrow\"><img alt=\"More\" src=\"/assets/overlay-arrow.png\"/></div></div><div class=\"list_image\"><img alt=\"Curiosity's 1.8-Billion-Pixel Panorama\" src=\"/system/news_items/list_view_images/8621_sol2597_2600_mosaic-320x240.jpg\"/></div><div class=\"bottom_gradient\"><div><h3>NASA's Curiosity Mars Rover Snaps Its Highest-Resolution Panorama Yet</h3></div></div></a><div class=\"list_text\"><div class=\"list_date\">March  4, 2020</div><div class=\"content_title\"><a href=\"/news/8621/nasas-curiosity-mars-rover-snaps-its-highest-resolution-panorama-yet/\" target=\"_self\">NASA's Curiosity Mars Rover Snaps Its Highest-Resolution Panorama Yet</a></div><div class=\"article_teaser_body\">To go along with the stunning 1.8-billion-pixel image, a new video offers a sweeping view of the Red Planet.</div></div></div></li><li class=\"slide\"><div class=\"image_and_description_container\"><a href=\"/news/8619/nasa-to-reveal-name-of-its-next-mars-rover/\" target=\"_self\"><div class=\"rollover_description\"><div class=\"rollover_description_inner\">After a months-long contest among students to name NASA's newest Mars rover, the agency will reveal the winning name — and the winning student — this Thursday. </div><div class=\"overlay_arrow\"><img alt=\"More\" src=\"/assets/overlay-arrow.png\"/></div></div><div class=\"list_image\"><img alt=\"This illustration depicts NASA's next Mars rover, which launches in 2020.\" src=\"/system/news_items/list_view_images/8619_8588_name20190625-320x240.jpg\"/></div><div class=\"bottom_gradient\"><div><h3>NASA to Reveal Name of Its Next Mars Rover</h3></div></div></a><div class=\"list_text\"><div class=\"list_date\">March  3, 2020</div><div class=\"content_title\"><a href=\"/news/8619/nasa-to-reveal-name-of-its-next-mars-rover/\" target=\"_self\">NASA to Reveal Name of Its Next Mars Rover</a></div><div class=\"article_teaser_body\">After a months-long contest among students to name NASA's newest Mars rover, the agency will reveal the winning name — and the winning student — this Thursday. </div></div></div></li><li class=\"slide\"><div class=\"image_and_description_container\"><a href=\"/news/8408/the-marco-mission-comes-to-an-end/\" target=\"_self\"><div class=\"rollover_description\"><div class=\"rollover_description_inner\">The pair of briefcase-sized satellites made history when they sailed past Mars in 2019.</div><div class=\"overlay_arrow\"><img alt=\"More\" src=\"/assets/overlay-arrow.png\"/></div></div><div class=\"list_image\"><img alt=\"MarCO-B, one of the experimental Mars Cube One (MarCO) CubeSats, took these images as it approached Mars.\" src=\"/system/news_items/list_view_images/8408_22206_PIA22655-th.gif\"/></div><div class=\"bottom_gradient\"><div><h3>The MarCO Mission Comes to an End</h3></div></div></a><div class=\"list_text\"><div class=\"list_date\">February 27, 2020</div><div class=\"content_title\"><a href=\"/news/8408/the-marco-mission-comes-to-an-end/\" target=\"_self\">The MarCO Mission Comes to an End</a></div><div class=\"article_teaser_body\">The pair of briefcase-sized satellites made history when they sailed past Mars in 2019.</div></div></div></li><li class=\"slide\"><div class=\"image_and_description_container\"><a href=\"/news/8613/a-year-of-surprising-science-from-nasas-insight-mars-mission/\" target=\"_self\"><div class=\"rollover_description\"><div class=\"rollover_description_inner\">A batch of new papers summarizes the lander's findings above and below the surface of the Red Planet.</div><div class=\"overlay_arrow\"><img alt=\"More\" src=\"/assets/overlay-arrow.png\"/></div></div><div class=\"list_image\"><img alt=\"In this artist's concept of NASA's InSight lander on Mars, layers of the planet's subsurface can be seen below and dust devils can be seen in the background.\" src=\"/system/news_items/list_view_images/8613_InSight-Nature-papers-320x240.jpg\"/></div><div class=\"bottom_gradient\"><div><h3>A Year of Surprising Science From NASA's InSight Mars Mission</h3></div></div></a><div class=\"list_text\"><div class=\"list_date\">February 24, 2020</div><div class=\"content_title\"><a href=\"/news/8613/a-year-of-surprising-science-from-nasas-insight-mars-mission/\" target=\"_self\">A Year of Surprising Science From NASA's InSight Mars Mission</a></div><div class=\"article_teaser_body\">A batch of new papers summarizes the lander's findings above and below the surface of the Red Planet.</div></div></div></li><li class=\"slide\"><div class=\"image_and_description_container\"><a href=\"/news/8612/mars-insight-lander-to-push-on-top-of-the-mole/\" target=\"_self\"><div class=\"rollover_description\"><div class=\"rollover_description_inner\">Engineers have a plan for pushing down on the heat probe, which has been stuck at the Martian surface for a year.</div><div class=\"overlay_arrow\"><img alt=\"More\" src=\"/assets/overlay-arrow.png\"/></div></div><div class=\"list_image\"><img alt=\"InSight Prepares to Push on the Mole\" src=\"/system/news_items/list_view_images/8612_Sol427-437_backcap_push_positioning-320x240.gif\"/></div><div class=\"bottom_gradient\"><div><h3>Mars InSight Lander to Push on Top of the 'Mole'</h3></div></div></a><div class=\"list_text\"><div class=\"list_date\">February 21, 2020</div><div class=\"content_title\"><a href=\"/news/8612/mars-insight-lander-to-push-on-top-of-the-mole/\" target=\"_self\">Mars InSight Lander to Push on Top of the 'Mole'</a></div><div class=\"article_teaser_body\">Engineers have a plan for pushing down on the heat probe, which has been stuck at the Martian surface for a year.</div></div></div></li><li class=\"slide\"><div class=\"image_and_description_container\"><a href=\"/news/8444/common-questions-about-insights-mole/\" target=\"_self\"><div class=\"rollover_description\"><div class=\"rollover_description_inner\">The following Q&amp;As with members of the team answer some of the most common questions about the burrowing device, part of a science instrument called the Heat Flow and Physical Properties Package (HP3).</div><div class=\"overlay_arrow\"><img alt=\"More\" src=\"/assets/overlay-arrow.png\"/></div></div><div class=\"list_image\"><img alt=\"NASA's Mars InSight lander recently moved its robotic arm closer to the heat probe's digging device, called the &quot;mole,&quot; in preparation to push on its top, or back cap.\" src=\"/system/news_items/list_view_images/8444_Sol427-437_backcap_push_positioning-320x240.gif\"/></div><div class=\"bottom_gradient\"><div><h3>Common Questions about InSight's 'Mole'</h3></div></div></a><div class=\"list_text\"><div class=\"list_date\">February 21, 2020</div><div class=\"content_title\"><a href=\"/news/8444/common-questions-about-insights-mole/\" target=\"_self\">Common Questions about InSight's 'Mole'</a></div><div class=\"article_teaser_body\">The following Q&amp;As with members of the team answer some of the most common questions about the burrowing device, part of a science instrument called the Heat Flow and Physical Properties Package (HP3).</div></div></div></li><li class=\"slide\"><div class=\"image_and_description_container\"><a href=\"/news/8611/nasa-adds-return-sample-scientists-to-mars-2020-leadership-team/\" target=\"_self\"><div class=\"rollover_description\"><div class=\"rollover_description_inner\">The leadership council for Mars 2020 science added two new members who represent the interests of scientists destined to handle and study the first samples from Red Planet.</div><div class=\"overlay_arrow\"><img alt=\"More\" src=\"/assets/overlay-arrow.png\"/></div></div><div class=\"list_image\"><img alt=\"Mars 2020 Rover Collecting Samples\" src=\"/system/news_items/list_view_images/8611_PIA22111-320x240.jpg\"/></div><div class=\"bottom_gradient\"><div><h3>NASA Adds Return Sample Scientists to Mars 2020 Leadership Team</h3></div></div></a><div class=\"list_text\"><div class=\"list_date\">February 20, 2020</div><div class=\"content_title\"><a href=\"/news/8611/nasa-adds-return-sample-scientists-to-mars-2020-leadership-team/\" target=\"_self\">NASA Adds Return Sample Scientists to Mars 2020 Leadership Team</a></div><div class=\"article_teaser_body\">The leadership council for Mars 2020 science added two new members who represent the interests of scientists destined to handle and study the first samples from Red Planet.</div></div></div></li><li class=\"slide\"><div class=\"image_and_description_container\"><a href=\"/news/8609/nasas-mars-reconnaissance-orbiter-undergoes-memory-update/\" target=\"_self\"><div class=\"rollover_description\"><div class=\"rollover_description_inner\">Other orbiters will continue relaying data from Mars surface missions for a two-week period.</div><div class=\"overlay_arrow\"><img alt=\"More\" src=\"/assets/overlay-arrow.png\"/></div></div><div class=\"list_image\"><img alt=\"Artist concept of Mars Reconnaissance Orbiter\" src=\"/system/news_items/list_view_images/8609_list_image.jpg\"/></div><div class=\"bottom_gradient\"><div><h3>NASA's Mars Reconnaissance Orbiter Undergoes Memory Update</h3></div></div></a><div class=\"list_text\"><div class=\"list_date\">February 18, 2020</div><div class=\"content_title\"><a href=\"/news/8609/nasas-mars-reconnaissance-orbiter-undergoes-memory-update/\" target=\"_self\">NASA's Mars Reconnaissance Orbiter Undergoes Memory Update</a></div><div class=\"article_teaser_body\">Other orbiters will continue relaying data from Mars surface missions for a two-week period.</div></div></div></li><li class=\"slide\"><div class=\"image_and_description_container\"><a href=\"/news/8607/nasas-mars-2020-rover-goes-coast-to-coast-to-prep-for-launch/\" target=\"_self\"><div class=\"rollover_description\"><div class=\"rollover_description_inner\">The agency's first step in returning rocks from Mars just arrived at Kennedy Space Center. The Mars 2020 team now begins readying for a launch to the Red Planet this July.</div><div class=\"overlay_arrow\"><img alt=\"More\" src=\"/assets/overlay-arrow.png\"/></div></div><div class=\"list_image\"><img alt=\"Seeing the Mars 2020 Rover Off\" src=\"/system/news_items/list_view_images/8607_PIA23591-320x240.jpg\"/></div><div class=\"bottom_gradient\"><div><h3>NASA's Mars 2020 Rover Goes Coast-to-Coast to Prep for Launch</h3></div></div></a><div class=\"list_text\"><div class=\"list_date\">February 12, 2020</div><div class=\"content_title\"><a href=\"/news/8607/nasas-mars-2020-rover-goes-coast-to-coast-to-prep-for-launch/\" target=\"_self\">NASA's Mars 2020 Rover Goes Coast-to-Coast to Prep for Launch</a></div><div class=\"article_teaser_body\">The agency's first step in returning rocks from Mars just arrived at Kennedy Space Center. The Mars 2020 team now begins readying for a launch to the Red Planet this July.</div></div></div></li><li class=\"slide\"><div class=\"image_and_description_container\"><a href=\"/news/8606/nasa-prepares-for-moon-and-mars-with-new-addition-to-its-deep-space-network/\" target=\"_self\"><div class=\"rollover_description\"><div class=\"rollover_description_inner\">Robotic spacecraft will be able to communicate with the dish using radio waves and lasers.</div><div class=\"overlay_arrow\"><img alt=\"More\" src=\"/assets/overlay-arrow.png\"/></div></div><div class=\"list_image\"><img alt=\"\" src=\"/system/news_items/list_view_images/8606_list_image.jpg\"/></div><div class=\"bottom_gradient\"><div><h3>NASA Prepares for Moon and Mars With New Addition to Its Deep Space Network</h3></div></div></a><div class=\"list_text\"><div class=\"list_date\">February 11, 2020</div><div class=\"content_title\"><a href=\"/news/8606/nasa-prepares-for-moon-and-mars-with-new-addition-to-its-deep-space-network/\" target=\"_self\">NASA Prepares for Moon and Mars With New Addition to Its Deep Space Network</a></div><div class=\"article_teaser_body\">Robotic spacecraft will be able to communicate with the dish using radio waves and lasers.</div></div></div></li><li class=\"slide\"><div class=\"image_and_description_container\"><a href=\"/news/8603/nasa-administrator-statement-on-moon-to-mars-initiative-fy-2021-budget/\" target=\"_self\"><div class=\"rollover_description\"><div class=\"rollover_description_inner\">Jim Bridenstine addresses NASA's ambitious plans for the coming years, including Mars Sample Return.</div><div class=\"overlay_arrow\"><img alt=\"More\" src=\"/assets/overlay-arrow.png\"/></div></div><div class=\"list_image\"><img alt=\"NASA Administrator Jim Bridenstine delivers the State of NASA address\" src=\"/system/news_items/list_view_images/8603_list_image.jpg\"/></div><div class=\"bottom_gradient\"><div><h3>NASA Administrator Statement on Moon to Mars Initiative, FY 2021 Budget</h3></div></div></a><div class=\"list_text\"><div class=\"list_date\">February 10, 2020</div><div class=\"content_title\"><a href=\"/news/8603/nasa-administrator-statement-on-moon-to-mars-initiative-fy-2021-budget/\" target=\"_self\">NASA Administrator Statement on Moon to Mars Initiative, FY 2021 Budget</a></div><div class=\"article_teaser_body\">Jim Bridenstine addresses NASA's ambitious plans for the coming years, including Mars Sample Return.</div></div></div></li><li class=\"slide\"><div class=\"image_and_description_container\"><a href=\"/news/8601/all-about-the-laser-and-microphone-atop-mars-2020-nasas-next-rover/\" target=\"_self\"><div class=\"rollover_description\"><div class=\"rollover_description_inner\">SuperCam is a rock-vaporizing instrument that will help scientists hunt for Mars fossils.</div><div class=\"overlay_arrow\"><img alt=\"More\" src=\"/assets/overlay-arrow.png\"/></div></div><div class=\"list_image\"><img alt=\"Mars 2020's mast, or &quot;head,&quot; includes a laser instrument called SuperCam that can vaporize rock material and study the resulting plasma. \" src=\"/system/news_items/list_view_images/8601_PIA23316-320x240.jpg\"/></div><div class=\"bottom_gradient\"><div><h3>All About the Laser (and Microphone) Atop Mars 2020, NASA's Next Rover</h3></div></div></a><div class=\"list_text\"><div class=\"list_date\">February  7, 2020</div><div class=\"content_title\"><a href=\"/news/8601/all-about-the-laser-and-microphone-atop-mars-2020-nasas-next-rover/\" target=\"_self\">All About the Laser (and Microphone) Atop Mars 2020, NASA's Next Rover</a></div><div class=\"article_teaser_body\">SuperCam is a rock-vaporizing instrument that will help scientists hunt for Mars fossils.</div></div></div></li><li class=\"slide\"><div class=\"image_and_description_container\"><a href=\"/news/8596/nasas-maven-explores-mars-to-understand-radio-interference-at-earth/\" target=\"_self\"><div class=\"rollover_description\"><div class=\"rollover_description_inner\">NASA’s MAVEN spacecraft has discovered “layers” and “rifts” in the electrically charged part of the upper atmosphere of Mars.</div><div class=\"overlay_arrow\"><img alt=\"More\" src=\"/assets/overlay-arrow.png\"/></div></div><div class=\"list_image\"><img alt=\"\" src=\"/system/news_items/list_view_images/8596_mavenatmars-320x240.jpg\"/></div><div class=\"bottom_gradient\"><div><h3>NASA's MAVEN Explores Mars to Understand Radio Interference at Earth</h3></div></div></a><div class=\"list_text\"><div class=\"list_date\">February  3, 2020</div><div class=\"content_title\"><a href=\"/news/8596/nasas-maven-explores-mars-to-understand-radio-interference-at-earth/\" target=\"_self\">NASA's MAVEN Explores Mars to Understand Radio Interference at Earth</a></div><div class=\"article_teaser_body\">NASA’s MAVEN spacecraft has discovered “layers” and “rifts” in the electrically charged part of the upper atmosphere of Mars.</div></div></div></li><li class=\"slide\"><div class=\"image_and_description_container\"><a href=\"/news/8588/nine-finalists-chosen-in-nasas-mars-2020-rover-naming-contest/\" target=\"_self\"><div class=\"rollover_description\"><div class=\"rollover_description_inner\">Nine finalists have been chosen in the essay contest for K-12 students across U.S. to name NASA's next Mars rover. Now you can help by voting for your favorite. </div><div class=\"overlay_arrow\"><img alt=\"More\" src=\"/assets/overlay-arrow.png\"/></div></div><div class=\"list_image\"><img alt=\"This illustration depicts NASA's next Mars rover, which launches in 2020.\" src=\"/system/news_items/list_view_images/8588_name20190625-320x240.jpg\"/></div><div class=\"bottom_gradient\"><div><h3>Nine Finalists Chosen in NASA's Mars 2020 Rover Naming Contest</h3></div></div></a><div class=\"list_text\"><div class=\"list_date\">January 21, 2020</div><div class=\"content_title\"><a href=\"/news/8588/nine-finalists-chosen-in-nasas-mars-2020-rover-naming-contest/\" target=\"_self\">Nine Finalists Chosen in NASA's Mars 2020 Rover Naming Contest</a></div><div class=\"article_teaser_body\">Nine finalists have been chosen in the essay contest for K-12 students across U.S. to name NASA's next Mars rover. Now you can help by voting for your favorite. </div></div></div></li><li class=\"slide\"><div class=\"image_and_description_container\"><a href=\"/news/8585/nasas-mars-2020-rover-closer-to-getting-its-name/\" target=\"_self\"><div class=\"rollover_description\"><div class=\"rollover_description_inner\">155 students from across the U.S. have been chosen as semifinalists in NASA's essay contest to name the Mars 2020 rover, and see it launch from Cape Canaveral this July.</div><div class=\"overlay_arrow\"><img alt=\"More\" src=\"/assets/overlay-arrow.png\"/></div></div><div class=\"list_image\"><img alt=\"This illustration depicts NASA's next Mars rover, which launches in 2020.\" src=\"/system/news_items/list_view_images/8585_name20190625-320x240.jpg\"/></div><div class=\"bottom_gradient\"><div><h3>NASA's Mars 2020 Rover Closer to Getting Its Name</h3></div></div></a><div class=\"list_text\"><div class=\"list_date\">January 13, 2020</div><div class=\"content_title\"><a href=\"/news/8585/nasas-mars-2020-rover-closer-to-getting-its-name/\" target=\"_self\">NASA's Mars 2020 Rover Closer to Getting Its Name</a></div><div class=\"article_teaser_body\">155 students from across the U.S. have been chosen as semifinalists in NASA's essay contest to name the Mars 2020 rover, and see it launch from Cape Canaveral this July.</div></div></div></li><li class=\"slide\"><div class=\"image_and_description_container\"><a href=\"/news/8578/media-get-a-close-up-of-nasas-mars-2020-rover/\" target=\"_self\"><div class=\"rollover_description\"><div class=\"rollover_description_inner\">The clean room at NASA's Jet Propulsion Laboratory was open to the media to see NASA's next Mars explorer before it leaves for Florida in preparation for a summertime launch.</div><div class=\"overlay_arrow\"><img alt=\"More\" src=\"/assets/overlay-arrow.png\"/></div></div><div class=\"list_image\"><img alt=\"Members of the media interview the builders of the Mars 2020 mission inside JPL's clean room.\" src=\"/system/news_items/list_view_images/8578_24741_PIA23586-SAFfloor-MAIN-16_320x240px.jpg\"/></div><div class=\"bottom_gradient\"><div><h3>Media Get a Close-Up of NASA's Mars 2020 Rover</h3></div></div></a><div class=\"list_text\"><div class=\"list_date\">December 27, 2019</div><div class=\"content_title\"><a href=\"/news/8578/media-get-a-close-up-of-nasas-mars-2020-rover/\" target=\"_self\">Media Get a Close-Up of NASA's Mars 2020 Rover</a></div><div class=\"article_teaser_body\">The clean room at NASA's Jet Propulsion Laboratory was open to the media to see NASA's next Mars explorer before it leaves for Florida in preparation for a summertime launch.</div></div></div></li><li class=\"slide\"><div class=\"image_and_description_container\"><a href=\"/news/8575/space-history-is-made-in-this-nasa-robot-factory/\" target=\"_self\"><div class=\"rollover_description\"><div class=\"rollover_description_inner\">From rockets to rovers, JPL's Spacecraft Assembly Facility has been at the center of robotic spaceflight. Here's a closer look at what makes it so special.</div><div class=\"overlay_arrow\"><img alt=\"More\" src=\"/assets/overlay-arrow.png\"/></div></div><div class=\"list_image\"><img alt=\"The Mars 2020 rover in the High Bay 1 clean room at JPL.\" src=\"/system/news_items/list_view_images/8575_PIA23519-SAF-unannot-320x240.jpg\"/></div><div class=\"bottom_gradient\"><div><h3>Space History Is Made in This NASA Robot Factory</h3></div></div></a><div class=\"list_text\"><div class=\"list_date\">December 23, 2019</div><div class=\"content_title\"><a href=\"/news/8575/space-history-is-made-in-this-nasa-robot-factory/\" target=\"_self\">Space History Is Made in This NASA Robot Factory</a></div><div class=\"article_teaser_body\">From rockets to rovers, JPL's Spacecraft Assembly Facility has been at the center of robotic spaceflight. Here's a closer look at what makes it so special.</div></div></div></li><li class=\"slide\"><div class=\"image_and_description_container\"><a href=\"/news/8573/nasas-mars-2020-rover-completes-its-first-drive/\" target=\"_self\"><div class=\"rollover_description\"><div class=\"rollover_description_inner\">In a 10-plus-hour marathon, the rover steered, turned and drove in 3-foot (1-meter) increments over small ramps.</div><div class=\"overlay_arrow\"><img alt=\"More\" src=\"/assets/overlay-arrow.png\"/></div></div><div class=\"list_image\"><img alt=\"In a clean room at NASA's Jet Propulsion Laboratory in Pasadena, California, engineers observed the first driving test for NASA's Mars 2020 rover on Dec. 17, 2019. \" src=\"/system/news_items/list_view_images/8573_PIA23499-226.jpg\"/></div><div class=\"bottom_gradient\"><div><h3>NASA's Mars 2020 Rover Completes Its First Drive</h3></div></div></a><div class=\"list_text\"><div class=\"list_date\">December 18, 2019</div><div class=\"content_title\"><a href=\"/news/8573/nasas-mars-2020-rover-completes-its-first-drive/\" target=\"_self\">NASA's Mars 2020 Rover Completes Its First Drive</a></div><div class=\"article_teaser_body\">In a 10-plus-hour marathon, the rover steered, turned and drove in 3-foot (1-meter) increments over small ramps.</div></div></div></li><li class=\"slide\"><div class=\"image_and_description_container\"><a href=\"/news/8595/nasas-maven-maps-winds-in-the-martian-upper-atmosphere-that-mirror-the-terrain-below-and-gives-clues/\" target=\"_self\"><div class=\"rollover_description\"><div class=\"rollover_description_inner\">Researchers have created the first map of wind circulation in the upper atmosphere of a planet besides Earth, using data from NASA’s MAVEN spacecraft that were collected during the last two years.</div><div class=\"overlay_arrow\"><img alt=\"More\" src=\"/assets/overlay-arrow.png\"/></div></div><div class=\"list_image\"><img alt=\"\" src=\"/system/news_items/list_view_images/8595_mars_winds_preview_4-320x240.jpg\"/></div><div class=\"bottom_gradient\"><div><h3>NASA's MAVEN Maps Winds in the Martian Upper Atmosphere that Mirror the Terrain Below and Gives Clues to Martian Climate</h3></div></div></a><div class=\"list_text\"><div class=\"list_date\">December 12, 2019</div><div class=\"content_title\"><a href=\"/news/8595/nasas-maven-maps-winds-in-the-martian-upper-atmosphere-that-mirror-the-terrain-below-and-gives-clues/\" target=\"_self\">NASA's MAVEN Maps Winds in the Martian Upper Atmosphere that Mirror the Terrain Below and Gives Clues to Martian Climate</a></div><div class=\"article_teaser_body\">Researchers have created the first map of wind circulation in the upper atmosphere of a planet besides Earth, using data from NASA’s MAVEN spacecraft that were collected during the last two years.</div></div></div></li></ul>"
      ]
     },
     "execution_count": 31,
     "metadata": {},
     "output_type": "execute_result"
    }
   ],
   "source": [
    "ul_item = news_s.find('ul', class_= 'item_list')\n",
    "ul_item"
   ]
  },
  {
   "cell_type": "code",
   "execution_count": 21,
   "metadata": {},
   "outputs": [
    {
     "data": {
      "text/plain": [
       "<li class=\"slide\"><div class=\"image_and_description_container\"><a href=\"/news/8678/the-detective-aboard-nasas-perseverance-rover/\" target=\"_self\"><div class=\"rollover_description\"><div class=\"rollover_description_inner\">An instrument called SHERLOC will, with the help of its partner WATSON, hunt for signs of ancient life by detecting organic molecules and minerals.</div><div class=\"overlay_arrow\"><img alt=\"More\" src=\"/assets/overlay-arrow.png\"/></div></div><div class=\"list_image\"><img alt=\"This artist's concept depicts NASA's Mars 2020 rover exploring Mars. \" src=\"/system/news_items/list_view_images/8678_21379_PIA22107-320x240.jpg\"/></div><div class=\"bottom_gradient\"><div><h3>The Detective Aboard NASA's Perseverance Rover</h3></div></div></a><div class=\"list_text\"><div class=\"list_date\">May 26, 2020</div><div class=\"content_title\"><a href=\"/news/8678/the-detective-aboard-nasas-perseverance-rover/\" target=\"_self\">The Detective Aboard NASA's Perseverance Rover</a></div><div class=\"article_teaser_body\">An instrument called SHERLOC will, with the help of its partner WATSON, hunt for signs of ancient life by detecting organic molecules and minerals.</div></div></div></li>"
      ]
     },
     "execution_count": 21,
     "metadata": {},
     "output_type": "execute_result"
    }
   ],
   "source": [
    "li_slide =ul_item.find('li', class_='slide')\n",
    "li_slide"
   ]
  },
  {
   "cell_type": "code",
   "execution_count": null,
   "metadata": {},
   "outputs": [],
   "source": [
    "#li_slide = news_s.select_one('ul.item_list li.slide')"
   ]
  },
  {
   "cell_type": "code",
   "execution_count": 26,
   "metadata": {},
   "outputs": [
    {
     "data": {
      "text/plain": [
       "\"The Detective Aboard NASA's Perseverance Rover\""
      ]
     },
     "execution_count": 26,
     "metadata": {},
     "output_type": "execute_result"
    }
   ],
   "source": [
    "news_title = li_slide.find('div',class_='content_title').text\n",
    "news_title"
   ]
  },
  {
   "cell_type": "code",
   "execution_count": 29,
   "metadata": {
    "scrolled": true
   },
   "outputs": [
    {
     "data": {
      "text/plain": [
       "'An instrument called SHERLOC will, with the help of its partner WATSON, hunt for signs of ancient life by detecting organic molecules and minerals.'"
      ]
     },
     "execution_count": 29,
     "metadata": {},
     "output_type": "execute_result"
    }
   ],
   "source": [
    "news_p = li_slide.find(\"div\", class_=\"article_teaser_body\").get_text()\n",
    "news_p"
   ]
  },
  {
   "cell_type": "markdown",
   "metadata": {},
   "source": [
    "# JPL Mars Space Images - Featured Image with splinter"
   ]
  },
  {
   "cell_type": "code",
   "execution_count": null,
   "metadata": {},
   "outputs": [],
   "source": [
    "feature_url = \"https://www.jpl.nasa.gov/spaceimages/?search=&category=Mars\"\n",
    "browser.visit(feature_url)\n",
    "time.sleep(4)\n",
    "browser.find_by_css(\"a#full_image.button.fancybox\").click()\n",
    "featured_image_url=browser.find_by_css(\"img.fancybox-image\")[\"src\"]\n",
    "featured_image_url"
   ]
  },
  {
   "cell_type": "markdown",
   "metadata": {},
   "source": [
    "# Mars Weather  @twitter account BS"
   ]
  },
  {
   "cell_type": "code",
   "execution_count": null,
   "metadata": {},
   "outputs": [],
   "source": [
    "path = \"https://twitter.com/marswxreport?lang=en\"\n",
    "weather = requests.get(path)\n",
    "weather_soup=bs(weather.text,\"html.parser\")"
   ]
  },
  {
   "cell_type": "code",
   "execution_count": null,
   "metadata": {},
   "outputs": [],
   "source": [
    "weather_info = weather_soup.find_all(\"div\",class_=\"js-tweet-text-container\")\n",
    "#weather_info"
   ]
  },
  {
   "cell_type": "code",
   "execution_count": null,
   "metadata": {},
   "outputs": [],
   "source": [
    "mars_weather = weather_info[0].find(\"p\").text\n",
    "mars_weather"
   ]
  },
  {
   "cell_type": "code",
   "execution_count": null,
   "metadata": {},
   "outputs": [],
   "source": [
    "type(mars_weather)"
   ]
  },
  {
   "cell_type": "markdown",
   "metadata": {},
   "source": [
    "# Mars Facts using pandas for table"
   ]
  },
  {
   "cell_type": "code",
   "execution_count": null,
   "metadata": {},
   "outputs": [],
   "source": [
    "import pandas as pd\n",
    "path = \"https://space-facts.com/mars/\"\n",
    "table = pd.read_html(path)\n",
    "print(type(table))\n",
    "print(table)"
   ]
  },
  {
   "cell_type": "code",
   "execution_count": null,
   "metadata": {},
   "outputs": [],
   "source": [
    "df = table[0]\n",
    "df"
   ]
  },
  {
   "cell_type": "code",
   "execution_count": null,
   "metadata": {},
   "outputs": [],
   "source": [
    "a=[]\n",
    "for i in df[0]:\n",
    "    a.append(i)\n",
    "a"
   ]
  },
  {
   "cell_type": "code",
   "execution_count": null,
   "metadata": {},
   "outputs": [],
   "source": [
    "b=[]\n",
    "for x  in df[1]:\n",
    "    b.append(x)\n",
    "b"
   ]
  },
  {
   "cell_type": "code",
   "execution_count": null,
   "metadata": {},
   "outputs": [],
   "source": [
    "fact_table = [\n",
    "    {\"Description\": a[0], \"Value\": b[0]},\n",
    "    {\"Description\": a[1], \"Value\": b[1]},\n",
    "    {\"Description\": a[2], \"Value\": b[3]},\n",
    "    {\"Description\": a[4], \"Value\": b[4]},\n",
    "    {\"Description\": a[5], \"Value\": b[5]},\n",
    "    {\"Description\": a[6], \"Value\": b[6]},\n",
    "    {\"Description\": a[7], \"Value\": b[7]},\n",
    "    {\"Description\": a[8], \"Value\": b[8]},]"
   ]
  },
  {
   "cell_type": "code",
   "execution_count": null,
   "metadata": {},
   "outputs": [],
   "source": [
    "fact_table"
   ]
  },
  {
   "cell_type": "code",
   "execution_count": null,
   "metadata": {},
   "outputs": [],
   "source": [
    "r = pd.DataFrame(fact_table)"
   ]
  },
  {
   "cell_type": "code",
   "execution_count": null,
   "metadata": {},
   "outputs": [],
   "source": [
    "r"
   ]
  },
  {
   "cell_type": "code",
   "execution_count": null,
   "metadata": {},
   "outputs": [],
   "source": [
    "df.columns = [\"Description\",\"Value\"]"
   ]
  },
  {
   "cell_type": "code",
   "execution_count": null,
   "metadata": {},
   "outputs": [],
   "source": [
    "df.set_index('Description', inplace=True)\n",
    "df.head()"
   ]
  },
  {
   "cell_type": "code",
   "execution_count": null,
   "metadata": {},
   "outputs": [],
   "source": [
    "type(df)"
   ]
  },
  {
   "cell_type": "code",
   "execution_count": null,
   "metadata": {},
   "outputs": [],
   "source": [
    "fact_table=df.to_html()\n",
    "fact_table"
   ]
  },
  {
   "cell_type": "code",
   "execution_count": null,
   "metadata": {},
   "outputs": [],
   "source": [
    "type(fact_table)"
   ]
  },
  {
   "cell_type": "markdown",
   "metadata": {},
   "source": [
    "# Hemisphere"
   ]
  },
  {
   "cell_type": "code",
   "execution_count": null,
   "metadata": {},
   "outputs": [],
   "source": [
    "h=\"https://astrogeology.usgs.gov/search/results?q=hemisphere+enhanced&k1=target&v1=Mars\"\n",
    "r=requests.get(h)\n",
    "s=bs(r.text,\"html.parser\")\n",
    "titles=s.find_all(\"div\", class_=\"description\")\n",
    "titles"
   ]
  },
  {
   "cell_type": "code",
   "execution_count": null,
   "metadata": {},
   "outputs": [],
   "source": [
    "t_list=[]\n",
    "for i in range(len(titles)):\n",
    "    t_list.append(titles[i].find(\"h3\").text)\n",
    "t_list"
   ]
  },
  {
   "cell_type": "code",
   "execution_count": null,
   "metadata": {},
   "outputs": [],
   "source": [
    "executable_path = {'executable_path': 'chromedriver.exe'}\n",
    "browser = Browser('chrome', **executable_path, headless=False)\n",
    "url = \"https://astrogeology.usgs.gov/search/results?q=hemisphere+enhanced&k1=target&v1=Mars\"\n",
    "browser.visit(url)"
   ]
  },
  {
   "cell_type": "code",
   "execution_count": null,
   "metadata": {},
   "outputs": [],
   "source": [
    "link_list=[]\n",
    "for x in range(len(browser.find_by_css(\"a.product-item h3\"))):\n",
    "    browser.find_by_css(\"a.product-item h3\")[x].click()\n",
    "    link_list.append(browser.find_by_css(\"img.wide-image\")[\"src\"])\n",
    "    browser.back()\n",
    "link_list\n",
    "browser.quit()"
   ]
  },
  {
   "cell_type": "code",
   "execution_count": null,
   "metadata": {},
   "outputs": [],
   "source": [
    "hemisphere_image_urls = [\n",
    "    {\"title\": t_list[0], \"img_url\": link_list[0]},\n",
    "    {\"title\": t_list[1], \"img_url\": link_list[1]},\n",
    "    {\"title\": t_list[2], \"img_url\": link_list[2]},\n",
    "    {\"title\": t_list[3], \"img_url\": link_list[3]},\n",
    "]"
   ]
  },
  {
   "cell_type": "code",
   "execution_count": null,
   "metadata": {},
   "outputs": [],
   "source": [
    "pd.DataFrame(hemisphere_image_urls)"
   ]
  },
  {
   "cell_type": "code",
   "execution_count": null,
   "metadata": {},
   "outputs": [],
   "source": [
    " mars_data = {\n",
    "        \"news_title\":news_title,\n",
    "        \"news_p\": news_p,      \n",
    "        \"featured_image\":featured_image_url,\n",
    "        \"mars_weather\":mars_weather,\n",
    "        \"table\":fact_table,\n",
    "        \"hemisphere_image\":hemisphere_image_urls}"
   ]
  },
  {
   "cell_type": "code",
   "execution_count": null,
   "metadata": {},
   "outputs": [],
   "source": [
    "mars_data"
   ]
  },
  {
   "cell_type": "code",
   "execution_count": null,
   "metadata": {},
   "outputs": [],
   "source": [
    "mars_data['news_title']"
   ]
  },
  {
   "cell_type": "code",
   "execution_count": null,
   "metadata": {},
   "outputs": [],
   "source": [
    "mars_data['hemisphere_image'][0]['title']"
   ]
  },
  {
   "cell_type": "code",
   "execution_count": null,
   "metadata": {},
   "outputs": [],
   "source": [
    "mars_data['hemisphere_image'][0]['img_url']"
   ]
  },
  {
   "cell_type": "code",
   "execution_count": null,
   "metadata": {},
   "outputs": [],
   "source": []
  }
 ],
 "metadata": {
  "kernelspec": {
   "display_name": "Python 3",
   "language": "python",
   "name": "python3"
  },
  "language_info": {
   "codemirror_mode": {
    "name": "ipython",
    "version": 3
   },
   "file_extension": ".py",
   "mimetype": "text/x-python",
   "name": "python",
   "nbconvert_exporter": "python",
   "pygments_lexer": "ipython3",
   "version": "3.7.4"
  }
 },
 "nbformat": 4,
 "nbformat_minor": 2
}
